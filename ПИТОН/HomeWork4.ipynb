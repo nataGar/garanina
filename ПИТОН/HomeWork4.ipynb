{
 "cells": [
  {
   "cell_type": "code",
   "execution_count": 17,
   "metadata": {},
   "outputs": [],
   "source": [
    "#функции картотеки\n",
    "\n",
    "documents = [\n",
    "{'type': 'passport', 'number': '2207 876234', 'name': 'Василий Пупкин'},\n",
    "{'type': 'invoice', 'number': '11-2', 'name': 'Геннадий Покемонов'},\n",
    "{'type': 'insurance', 'number': '10006', 'name': 'Аристарх Павлов'}\n",
    "]\n",
    "\n",
    "directories = {\n",
    "'1': ['2207 876234', '11-2'],\n",
    "'2': ['10006'],\n",
    "'3': []\n",
    "}\n",
    "\n",
    "\n"
   ]
  },
  {
   "cell_type": "code",
   "execution_count": 18,
   "metadata": {},
   "outputs": [],
   "source": [
    "# 1. Пользователь по команде “p” может узнать владельца документа по его номеру\n",
    "\n",
    "def people_get(numbers):  \n",
    "    for doc_number in documents: # проходимся по списку словарей\n",
    "        if doc_number['number'] == numbers:\n",
    "            print(doc_number['name'])\n",
    "            break\n",
    "    else:\n",
    "        print('Документ не найден в базе.')\n",
    "\n"
   ]
  },
  {
   "cell_type": "code",
   "execution_count": 19,
   "metadata": {},
   "outputs": [],
   "source": [
    "# 2. Пользователь по команде “s” может по номеру документа узнать на какой полке он хранится\n",
    "\n",
    "def shelf_get(numbers):\n",
    "    break_marker = False\n",
    "    for  number in directories.items(): # получаем список\n",
    "        for j in  number[1]:  \n",
    "            if j == numbers:\n",
    "                print('документ хранится на полке', number[0])\n",
    "                break_marker = True\n",
    "                break\n",
    "        if break_marker == True:\n",
    "             break           \n",
    "    else:\n",
    "                print('документ в базе не найден')\n",
    "                \n",
    "                \n"
   ]
  },
  {
   "cell_type": "code",
   "execution_count": 20,
   "metadata": {},
   "outputs": [],
   "source": [
    "# 3. Пользователь по команде “l” может увидеть полную информацию по всем документам\n",
    "\n",
    "def all_infa():\n",
    "    \n",
    "    for i in documents:\n",
    "        for x, y in directories.items():\n",
    "            if i['number'] in y:\n",
    "                num = x\n",
    "                break\n",
    "        print(f' №: {i[\"number\"]} тип: {i[\"type\"]} владелец: {i[\"name\"]} полка хранения: {num}')\n",
    "        \n"
   ]
  },
  {
   "cell_type": "code",
   "execution_count": 21,
   "metadata": {},
   "outputs": [],
   "source": [
    " # 4. Пользователь по команде “as” может добавить новую полку\n",
    "\n",
    "def add_shelf(number_shelf):\n",
    "    if number_shelf not in directories.keys():\n",
    "        directories.setdefault(number_shelf, [])\n",
    " #       directories[number_shelf] = []\n",
    "        print('полка добавлена, номера полок: ',','.join(directories.keys()))\n",
    "        return\n",
    "    else:\n",
    "        print('такая полка уже существует, текущий перечень полок:',','.join(directories.keys()))\n",
    "        return\n",
    "   "
   ]
  },
  {
   "cell_type": "code",
   "execution_count": 22,
   "metadata": {},
   "outputs": [],
   "source": [
    "# 5. Пользователь по команде “ds” может удалить существующую полку из данных (только если она пустая)\n",
    "\n",
    "def shelf_del(shelf):\n",
    "\n",
    "    if shelf not in directories.keys():\n",
    "        print('текущая полка не найдена, текущий перечень полок:',','.join(directories.keys()))\n",
    "        return\n",
    "    elif len(directories[shelf]) == 0:\n",
    "        del directories[shelf]\n",
    "        print('полка удалена текущий перечень полок:',','.join(directories.keys()))\n",
    "        return\n",
    "    else:    \n",
    "        print('на полке есть документы, удалите их перед удалением полки, текущий перечень полок:',','.join(directories.keys()))\n",
    "        return\n"
   ]
  },
  {
   "cell_type": "code",
   "execution_count": 26,
   "metadata": {},
   "outputs": [
    {
     "name": "stdout",
     "output_type": "stream",
     "text": [
      "\n",
      "     введите одну из команд: p, s, l, as. \n",
      "     для выхода наберите: e \n",
      "     sd\n",
      "\n",
      "введите номер полки: 3\n",
      "полка удалена текущий перечень полок: 1,2\n",
      "\n",
      "     введите одну из команд: p, s, l, as. \n",
      "     для выхода наберите: e \n",
      "     as\n",
      "\n",
      "введите номер полки: 5\n",
      "полка добавлена, номера полок:  1,2,5\n",
      "\n",
      "     введите одну из команд: p, s, l, as. \n",
      "     для выхода наберите: e \n",
      "     sd\n",
      "\n",
      "введите номер полки: 5\n",
      "полка удалена текущий перечень полок: 1,2\n",
      "\n",
      "     введите одну из команд: p, s, l, as. \n",
      "     для выхода наберите: e \n",
      "     e\n"
     ]
    }
   ],
   "source": [
    "while True:\n",
    "    command = input('\\n \\\n",
    "    введите одну из команд: p, s, l, as. \\n \\\n",
    "    для выхода наберите: e \\n \\\n",
    "    ')\n",
    "    if command == 'p':\n",
    "        people_get(input('\\nвведите № документа:'))\n",
    "    elif command == 's':\n",
    "         shelf_get(input('\\nвведите № документа: '))\n",
    "    elif command == 'l':\n",
    "         all_infa()\n",
    "    elif command == 'as':\n",
    "         add_shelf(input('\\nвведите номер полки: '))\n",
    "    elif command == 'sd':\n",
    "         shelf_del(input('\\nвведите номер полки: '))\n",
    "    elif command == 'e':\n",
    "         break\n",
    "    else:\n",
    "        print('вы ввели не правильную команду')\n",
    "        break\n",
    "        \n",
    "        \n",
    "        \n",
    "        \n",
    "        \n",
    "        \n",
    "        "
   ]
  },
  {
   "cell_type": "code",
   "execution_count": 13,
   "metadata": {},
   "outputs": [
    {
     "name": "stdout",
     "output_type": "stream",
     "text": [
      "{'1': ['2207 876234', '11-2'], '2': ['10006'], '3': [], '12': [], '8': [], '10': []}\n"
     ]
    }
   ],
   "source": [
    "print (directories)"
   ]
  }
 ],
 "metadata": {
  "kernelspec": {
   "display_name": "Python 3",
   "language": "python",
   "name": "python3"
  },
  "language_info": {
   "codemirror_mode": {
    "name": "ipython",
    "version": 3
   },
   "file_extension": ".py",
   "mimetype": "text/x-python",
   "name": "python",
   "nbconvert_exporter": "python",
   "pygments_lexer": "ipython3",
   "version": "3.8.5"
  }
 },
 "nbformat": 4,
 "nbformat_minor": 4
}
