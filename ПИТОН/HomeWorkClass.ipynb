{
 "cells": [
  {
   "cell_type": "markdown",
   "metadata": {},
   "source": [
    "# Задание 2\n",
    "Добавьте в класс Rate параметр diff (со значениями True или False), который в случае значения True в методах курсов валют (eur, usd итд) будет возвращать не курс валюты, а изменение по сравнению в прошлым значением. Считайте, self.diff будет принимать значение True только при возврате значения курса. При отображении всей информации о валюте он не используется."
   ]
  },
  {
   "cell_type": "code",
   "execution_count": 1,
   "metadata": {},
   "outputs": [],
   "source": [
    "import requests"
   ]
  },
  {
   "cell_type": "code",
   "execution_count": 149,
   "metadata": {},
   "outputs": [],
   "source": [
    "class Rate:\n",
    "    \n",
    "    def __init__(self, format_ = 'value', diff_=False): # format_ -это формат ответа\n",
    "        self.format = format_                           # доступен всем методам нашего класса\n",
    "        self.diff = diff_\n",
    "    \n",
    "    def exchange_rates(self):                           #получение внешних данных\n",
    "        self.r = requests.get('https://www.cbr-xml-daily.ru/daily_json.js')\n",
    "        return self.r.json()['Valute']\n",
    "      \n",
    "    \n",
    "    def make_format(self, currency):\n",
    "        response = self.exchange_rates()\n",
    "        \n",
    "        if currency in response:\n",
    "            if self.format == 'full':\n",
    "                return response[currency]\n",
    "           \n",
    "            if   self.format == 'value': \n",
    "                return response[currency]['Value']\n",
    "            \n",
    "        return 'Error'\n",
    "            \n",
    "    def make_diff(self, currency):                       # находим разницу\n",
    "        response = self.exchange_rates()\n",
    "        \n",
    "        if currency in response:\n",
    "            if  self.diff == True : \n",
    "                return  round((response[currency]['Value'] - response[currency]['Previous']),4)\n",
    "            \n",
    "        \n",
    "    def eur(self):\n",
    "        \n",
    "        if self.diff == False or self.format == 'full' : \n",
    "            return self.make_format('EUR')\n",
    "        if  self.diff == True : \n",
    "            return  self.make_diff('EUR')\n",
    "       \n",
    "        \n",
    "    def usd(self):\n",
    "        \n",
    "        if self.diff == False or self.format == 'full' : \n",
    "            return self.make_format('USD')\n",
    "        if  self.diff == True : \n",
    "            return  self.make_diff('USD')\n",
    "        \n",
    "    def brl(self):\n",
    "        \n",
    "        if self.diff == False or self.format == 'full' : \n",
    "            return self.make_format('BRL')\n",
    "        if  self.diff == True : \n",
    "            return  self.make_diff('BRL')\n",
    "        \n",
    "    \n",
    "    \n"
   ]
  },
  {
   "cell_type": "code",
   "execution_count": null,
   "metadata": {},
   "outputs": [],
   "source": []
  },
  {
   "cell_type": "code",
   "execution_count": 159,
   "metadata": {
    "scrolled": false
   },
   "outputs": [],
   "source": [
    "r = Rate(format_='full')"
   ]
  },
  {
   "cell_type": "code",
   "execution_count": 160,
   "metadata": {
    "scrolled": true
   },
   "outputs": [
    {
     "data": {
      "text/plain": [
       "{'ID': 'R01115',\n",
       " 'NumCode': '986',\n",
       " 'CharCode': 'BRL',\n",
       " 'Nominal': 1,\n",
       " 'Name': 'Бразильский реал',\n",
       " 'Value': 13.1272,\n",
       " 'Previous': 13.13}"
      ]
     },
     "execution_count": 160,
     "metadata": {},
     "output_type": "execute_result"
    }
   ],
   "source": [
    "r.brl()"
   ]
  },
  {
   "cell_type": "code",
   "execution_count": 24,
   "metadata": {
    "scrolled": false
   },
   "outputs": [],
   "source": [
    "\n",
    "#r.exchange_rates()"
   ]
  },
  {
   "cell_type": "markdown",
   "metadata": {},
   "source": []
  },
  {
   "cell_type": "markdown",
   "metadata": {},
   "source": [
    "# Задание 1\n",
    "Напишите функцию, которая возвращает название валюты (поле ‘Name’) с максимальным значением курса с помощью сервиса https://www.cbr-xml-daily.ru/daily_json.js\n",
    "    "
   ]
  },
  {
   "cell_type": "code",
   "execution_count": 19,
   "metadata": {},
   "outputs": [
    {
     "data": {
      "text/plain": [
       "'Самая дорогая валюта на сегодня СДР (специальные права заимствования) c курсом 106.0488'"
      ]
     },
     "execution_count": 19,
     "metadata": {},
     "output_type": "execute_result"
    }
   ],
   "source": [
    "def make_max():   \n",
    "        \n",
    "        info = requests.get('https://www.cbr-xml-daily.ru/daily_json.js')\n",
    "        response =  info.json()['Valute']\n",
    "        list_response = []\n",
    "\n",
    "        for currency in response.values():  \n",
    "            if currency['Nominal'] == 1:  \n",
    "                list_response.append(currency['Value'])\n",
    "                max_currency = max(list_response)\n",
    "        for currency in response.values():\n",
    "            if max_currency == currency['Value']:\n",
    "                return(f'Самая дорогая валюта на сегодня {currency[\"Name\"]} c курсом {currency[\"Value\"]}')\n",
    "make_max()"
   ]
  },
  {
   "cell_type": "markdown",
   "metadata": {},
   "source": [
    "# Задание 3\n",
    "Напишите класс Designer, который учитывает количество международных премий. Подсказки в коде занятия в разделе “Домашнее задание задача 3”.“Повышение на 1 грейд за каждые 7 баллов. Получение международной премии – это +2 балла”). Считайте, что при выходе на работу сотрудник уже имеет две премии и их количество не меняется со стажем (конечно если хотите это можно вручную менять)."
   ]
  },
  {
   "cell_type": "code",
   "execution_count": 1,
   "metadata": {},
   "outputs": [],
   "source": [
    "class Employee:\n",
    "    def __init__(self, name, seniority):\n",
    "        self.name = name\n",
    "        self.seniority = seniority\n",
    "        \n",
    "        self.grade = 1\n",
    "        \n",
    "    def grade_up(self):\n",
    "        self.grade += 1   # повышает уровень сотрудника\n",
    "     \n",
    "    def publish_grade(self): \n",
    "        print(self.name, self.grade) # публикация рез-ов аккредитации сотрудников\n",
    "        \n",
    "   "
   ]
  },
  {
   "cell_type": "code",
   "execution_count": 2,
   "metadata": {},
   "outputs": [],
   "source": [
    "class Designer(Employee):\n",
    "    def __init__(self, name, seniority):\n",
    "        super().__init__(name, seniority)\n",
    "        \n",
    "    def check_if_it_is_time_for_upgrade(self):    \n",
    "        self.seniority += 4\n",
    "        \n",
    "        if (self.seniority) % 7 == 0:\n",
    "            self.grade_up()\n",
    "            \n",
    "        return self.publish_grade()"
   ]
  },
  {
   "cell_type": "code",
   "execution_count": 3,
   "metadata": {},
   "outputs": [],
   "source": [
    "alex = Designer('Александр', 0)"
   ]
  },
  {
   "cell_type": "code",
   "execution_count": 9,
   "metadata": {},
   "outputs": [
    {
     "name": "stdout",
     "output_type": "stream",
     "text": [
      "Александр 16\n",
      "Александр 16\n",
      "Александр 16\n",
      "Александр 16\n",
      "Александр 16\n",
      "Александр 16\n",
      "Александр 17\n",
      "Александр 17\n",
      "Александр 17\n",
      "Александр 17\n",
      "Александр 17\n",
      "Александр 17\n",
      "Александр 17\n",
      "Александр 18\n",
      "Александр 18\n",
      "Александр 18\n",
      "Александр 18\n",
      "Александр 18\n",
      "Александр 18\n",
      "Александр 18\n",
      "Александр 19\n"
     ]
    }
   ],
   "source": [
    "for i in range(21):\n",
    "    alex.check_if_it_is_time_for_upgrade()"
   ]
  },
  {
   "cell_type": "code",
   "execution_count": null,
   "metadata": {},
   "outputs": [],
   "source": []
  },
  {
   "cell_type": "code",
   "execution_count": 3,
   "metadata": {},
   "outputs": [],
   "source": []
  },
  {
   "cell_type": "code",
   "execution_count": null,
   "metadata": {},
   "outputs": [],
   "source": []
  }
 ],
 "metadata": {
  "kernelspec": {
   "display_name": "Python 3",
   "language": "python",
   "name": "python3"
  },
  "language_info": {
   "codemirror_mode": {
    "name": "ipython",
    "version": 3
   },
   "file_extension": ".py",
   "mimetype": "text/x-python",
   "name": "python",
   "nbconvert_exporter": "python",
   "pygments_lexer": "ipython3",
   "version": "3.8.5"
  }
 },
 "nbformat": 4,
 "nbformat_minor": 4
}
