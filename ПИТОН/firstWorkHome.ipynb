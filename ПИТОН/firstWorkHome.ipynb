{
 "cells": [
  {
   "cell_type": "code",
   "execution_count": 108,
   "metadata": {},
   "outputs": [
    {
     "name": "stdout",
     "output_type": "stream",
     "text": [
      "фразы равны\n"
     ]
    }
   ],
   "source": [
    "#фразы\n",
    "phrase_1= \"hello\"\n",
    "phrase_2= \"hello\"\n",
    "len(phrase_1)\n",
    "len(phrase_2)\n",
    "if phrase_1< phrase_2:\n",
    "    print(\"фраза 2 длиннее фразы 1\")\n",
    "elif phrase_1> phrase_2: \n",
    "        print(\"фраза 1 длиннее фразы 2\")\n",
    "else:\n",
    "    print(\"фразы равны\")\n",
    "    \n",
    "   "
   ]
  },
  {
   "cell_type": "code",
   "execution_count": 152,
   "metadata": {},
   "outputs": [
    {
     "name": "stdout",
     "output_type": "stream",
     "text": [
      "2015\n",
      "обычный год\n"
     ]
    }
   ],
   "source": [
    "#високосный год\n",
    "year = int(input())\n",
    "\n",
    "if (year % 4 == 0 or year % 400 == 0) and year % 100 != 0:\n",
    "    print(\"високосный год\")\n",
    "else:\n",
    "    print(\"обычный год\")"
   ]
  },
  {
   "cell_type": "code",
   "execution_count": 154,
   "metadata": {},
   "outputs": [
    {
     "name": "stdout",
     "output_type": "stream",
     "text": [
      "введите день: 16\n",
      "введите месяц: март\n",
      "Знак зодиака:Рыбы\n"
     ]
    }
   ],
   "source": [
    "#Знаки зодиака\n",
    "day= int(input(\"введите день: \"))\n",
    "month= str(input(\"введите месяц: \"))\n",
    "if (day>=21 and day<=31 and month== str(\"март\")) or(month== str(\"апрель\") and day>=1 \n",
    "                                                    and day<=19):\n",
    "    print(\"Знак зодиака:Овен\") \n",
    "elif (day>=20 and day<=30 and month== str(\"апрель\")) or(month== str(\"май\") and day>=1 \n",
    "                                                        and day<=20):\n",
    "    print(\"Знак зодиака:Телец\")\n",
    "elif (day>=21 and day<=31 and month== str(\"май\")) or( month== str(\"июнь\") and day>=1\n",
    "                                                     and day<=21):\n",
    "    print(\"Знак зодиака:Близнецы\")\n",
    "elif (day>=22 and day<=30 and month== str(\"июнь\")) or( month== str(\"июль\") and day>=1 \n",
    "                                                      and day<=22):\n",
    "    print(\"Знак зодиака:Рак\")\n",
    "elif (day>=23 and day<=31 and month== str(\"июль\")) or( month== str(\"август\")and day>=1 \n",
    "                                                      and date<=22):\n",
    "    print(\"Знак зодиака:Лев\")\n",
    "elif (day>=23 and day<=31 and month== str(\"август\")) or( month== str(\"сентябрь\") and day>=1\n",
    "                                           and day<=22):\n",
    "    print(\"Знак зодиака:Дева\")\n",
    "elif (day>=23 and day<=30 and month== str(\"сентябрь\")) or( month== str(\"октябрь\") and day>=1 \n",
    "                                                          and day<=23):\n",
    "    print(\"Знак зодиака:Весы\")\n",
    "elif (day>=24 and day<=31 and month== str(\"октябрь\")) or( month== str(\"ноябрь\") and day>=1 \n",
    "                                                         and day<=22):\n",
    "    print(\"Знак зодиака:Скорпион\")\n",
    "elif (day>=23 and day<=30 and month== str(\"ноябрь\")) or( month== str(\"декабрь\") and day>=1 \n",
    "                                                        and day<=21):\n",
    "    print(\"Знак зодиака:Стрелец\")\n",
    "elif (day>=22 and day<=31 and month== str(\"декабрь\")) or( month== str(\"январь\") and day>=1 \n",
    "                                                         and day<=20):\n",
    "    print(\"Знак зодиака:Козерог\")\n",
    "elif (day>=21 and day<=31 and month== str(\"январь\")) or( month== str(\"февраль\") and day>=1 \n",
    "                                                       and day<=18):\n",
    "    print(\"Знак зодиака:Водолей\")\n",
    "elif (day>=19 and day<=29 and month== str(\"февраль\")) or( month== str(\"март\") and day>=1 \n",
    "                                                         and day<=20):\n",
    "    print(\"Знак зодиака:Рыбы\")"
   ]
  },
  {
   "cell_type": "code",
   "execution_count": 153,
   "metadata": {},
   "outputs": [
    {
     "name": "stdout",
     "output_type": "stream",
     "text": [
      "упаковка для лыж\n"
     ]
    }
   ],
   "source": [
    "#коробки\n",
    "widht= 10    \n",
    "lenght= 205 \n",
    "height= 5    \n",
    "if lenght>200:\n",
    "    print(\"упаковка для лыж\")\n",
    "elif widht<15 and lenght<15 and height<15:\n",
    "    print(\"коробка №1\")\n",
    "elif 15<widht<50 or 15<lenght<50 or 15<height<50:\n",
    "    print(\"коробка №2\")\n",
    "else: \n",
    "    print(\"стандартная коробка №3\")"
   ]
  },
  {
   "cell_type": "code",
   "execution_count": null,
   "metadata": {},
   "outputs": [],
   "source": []
  },
  {
   "cell_type": "code",
   "execution_count": null,
   "metadata": {},
   "outputs": [],
   "source": []
  }
 ],
 "metadata": {
  "kernelspec": {
   "display_name": "Python 3",
   "language": "python",
   "name": "python3"
  },
  "language_info": {
   "codemirror_mode": {
    "name": "ipython",
    "version": 3
   },
   "file_extension": ".py",
   "mimetype": "text/x-python",
   "name": "python",
   "nbconvert_exporter": "python",
   "pygments_lexer": "ipython3",
   "version": "3.8.5"
  }
 },
 "nbformat": 4,
 "nbformat_minor": 4
}
