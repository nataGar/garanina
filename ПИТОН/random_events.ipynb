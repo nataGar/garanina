{
 "cells": [
  {
   "cell_type": "markdown",
   "metadata": {},
   "source": [
    "Смоделировать игру против лотерейного автомата типа “777”. Игрок платит 1 руб., после чего выпадает случайное целое число, равномерно распределенное от 0 до 999. При некоторых значениях числа игрок получает выигрыш (см. справа)\n",
    "\n",
    "Выгодна ли игра игроку?\n",
    "\n",
    "Сколько в среднем приобретает\n",
    "или теряет игрок за одну игру?"
   ]
  },
  {
   "cell_type": "code",
   "execution_count": 1,
   "metadata": {},
   "outputs": [],
   "source": [
    "import numpy as np"
   ]
  },
  {
   "cell_type": "code",
   "execution_count": 445,
   "metadata": {},
   "outputs": [
    {
     "name": "stdout",
     "output_type": "stream",
     "text": [
      "\"выигрыш\": -197240 удачные попытки: 204144 средний выигрыш: 0.80276\n"
     ]
    }
   ],
   "source": [
    "trials = 1000000                 # количество попыток и потраченных денег\n",
    "money = 0                        # выигрыш при удачной попытке\n",
    "success = 0                      # удачные попытки\n",
    "for i in range(trials):\n",
    "    random_score = np.random.randint(0, 1000)\n",
    "    if random_score == 777:\n",
    "        money += 200\n",
    "        success += 1\n",
    "    elif random_score == 999:\n",
    "        money += 100\n",
    "        success += 1\n",
    "    elif random_score == 555:\n",
    "        money += 50\n",
    "        success += 1\n",
    "    elif random_score == 333:\n",
    "        money += 15\n",
    "        success += 1\n",
    "    elif random_score == 111:\n",
    "        money += 10\n",
    "        success += 1\n",
    "    elif random_score % 100 == 77:\n",
    "        money += 5\n",
    "        success += 1\n",
    "    elif random_score % 10 == 7:\n",
    "        money += 3\n",
    "        success += 1\n",
    "    elif random_score % 100 == 0:\n",
    "        money += 2\n",
    "        success += 1\n",
    "    elif random_score % 10 == 0:\n",
    "        money += 1\n",
    "        success += 1\n",
    "print('\"выигрыш\":', money - trials,'удачные попытки:', success,'средний выигрыш:',  money/trials)\n"
   ]
  },
  {
   "cell_type": "code",
   "execution_count": 443,
   "metadata": {},
   "outputs": [
    {
     "name": "stdout",
     "output_type": "stream",
     "text": [
      "0.8450000000000001\n"
     ]
    }
   ],
   "source": [
    "# расчетный средний выигрыш\n",
    "\n",
    "quantity_digits_3 = 1/1000\n",
    "quantity_digits_2 = 1/100\n",
    "quantity_digits_1 = 1/10\n",
    "\n",
    "probability_mean = 200*quantity_digits_3 + 100*quantity_digits_3 + 50*quantity_digits_3 + 15*quantity_digits_3 + 10*quantity_digits_3 + 5*quantity_digits_2 + 2*quantity_digits_2 + 3*quantity_digits_1 + 1*quantity_digits_1\n",
    "print(probability_mean)"
   ]
  },
  {
   "cell_type": "markdown",
   "metadata": {},
   "source": [
    "почему такая разница между смоделированной и расчетной вероятностью, где ошибка? Но в барабанах каждый слот крутится отдельно, это как то влияет на результат?"
   ]
  }
 ],
 "metadata": {
  "kernelspec": {
   "display_name": "Python 3",
   "language": "python",
   "name": "python3"
  },
  "language_info": {
   "codemirror_mode": {
    "name": "ipython",
    "version": 3
   },
   "file_extension": ".py",
   "mimetype": "text/x-python",
   "name": "python",
   "nbconvert_exporter": "python",
   "pygments_lexer": "ipython3",
   "version": "3.8.5"
  }
 },
 "nbformat": 4,
 "nbformat_minor": 4
}
