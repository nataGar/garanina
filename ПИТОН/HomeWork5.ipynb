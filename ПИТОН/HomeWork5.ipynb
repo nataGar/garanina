{
 "cells": [
  {
   "cell_type": "code",
   "execution_count": 11,
   "metadata": {},
   "outputs": [
    {
     "data": {
      "text/plain": [
       "<_io.TextIOWrapper name='D:\\\\netology\\\\файлы\\\\visit_log.csv' mode='r' encoding='utf-8'>"
      ]
     },
     "execution_count": 11,
     "metadata": {},
     "output_type": "execute_result"
    }
   ],
   "source": [
    "f = open ('D:\\\\netology\\\\файлы\\\\visit_log.csv', 'r', encoding = 'utf-8')\n",
    "f"
   ]
  },
  {
   "cell_type": "code",
   "execution_count": 12,
   "metadata": {},
   "outputs": [],
   "source": [
    "content = f.readlines()"
   ]
  },
  {
   "cell_type": "code",
   "execution_count": 15,
   "metadata": {},
   "outputs": [
    {
     "data": {
      "text/plain": [
       "list"
      ]
     },
     "execution_count": 15,
     "metadata": {},
     "output_type": "execute_result"
    }
   ],
   "source": [
    "content[:20]\n",
    "type(content)"
   ]
  },
  {
   "cell_type": "code",
   "execution_count": 116,
   "metadata": {},
   "outputs": [],
   "source": [
    "import json\n",
    "purchases = {}\n",
    "with open ('D:\\\\netology\\\\файлы\\\\purchase_log.txt', encoding = 'utf-8') as purchase:\n",
    "    content = purchase.readlines()\n",
    "    for line in content:                      # иттерация по строкам\n",
    "        line = line.strip()                    # убираем лишние символы\n",
    "        dict_ = json.loads(line)               # создаем словарь из каждой строки\n",
    "        list_purchases = list(dict_.values())  # создаем список из значений словарей\n",
    "        purchases.setdefault( list_purchases[0],  list_purchases[1])\n",
    "del purchases['user_id']\n",
    "\n",
    "\n",
    "        \n",
    "            "
   ]
  },
  {
   "cell_type": "code",
   "execution_count": 117,
   "metadata": {},
   "outputs": [],
   "source": [
    "with open ('D:\\\\netology\\\\файлы\\\\visit_log.csv', 'r', encoding = 'utf-8') as visit:\n",
    "    with open ('D:\\\\netology\\\\файлы\\\\funnel.csv', 'w', encoding = 'utf-8') as f:\n",
    "        for line in visit:\n",
    "            line = line.strip().split(',') # убираем лишние символы и преобразуем строку в список\n",
    "            if line[0] in purchases:       # проверяем пересечение id в файле и словаре\n",
    "                f.write(str(line[0]) + ',' + str(line[1]) + ':' + purchases.get(line[0]) + '\\n')                          \n",
    "            "
   ]
  },
  {
   "cell_type": "code",
   "execution_count": 118,
   "metadata": {},
   "outputs": [
    {
     "data": {
      "text/plain": [
       "['1840e0b9d4,other:Продукты\\n',\n",
       " '4e4f90fcfb,context:Электроника\\n',\n",
       " 'afea8d72fc,other:Электроника\\n',\n",
       " '2824221f38,email:Продукты\\n',\n",
       " '373a6055fe,other:Бытовая техника\\n',\n",
       " '9b2ab046f3,other:Электроника\\n',\n",
       " '9f39d307c3,context:Электроника\\n',\n",
       " '44edeffc91,context:Продукты\\n',\n",
       " '704474fa2d,other:Продукты\\n',\n",
       " '1de31be403,other:Бытовая техника\\n']"
      ]
     },
     "execution_count": 118,
     "metadata": {},
     "output_type": "execute_result"
    }
   ],
   "source": [
    "f = open ('D:\\\\netology\\\\файлы\\\\funnel.csv', encoding = 'utf-8')\n",
    "content = f.readlines()\n",
    "content[:10]\n",
    "      "
   ]
  },
  {
   "cell_type": "code",
   "execution_count": null,
   "metadata": {},
   "outputs": [],
   "source": [
    "\n",
    "\n",
    "    "
   ]
  }
 ],
 "metadata": {
  "kernelspec": {
   "display_name": "Python 3",
   "language": "python",
   "name": "python3"
  },
  "language_info": {
   "codemirror_mode": {
    "name": "ipython",
    "version": 3
   },
   "file_extension": ".py",
   "mimetype": "text/x-python",
   "name": "python",
   "nbconvert_exporter": "python",
   "pygments_lexer": "ipython3",
   "version": "3.8.5"
  }
 },
 "nbformat": 4,
 "nbformat_minor": 4
}
